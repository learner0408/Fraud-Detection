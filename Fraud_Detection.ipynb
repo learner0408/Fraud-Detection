{
  "nbformat": 4,
  "nbformat_minor": 0,
  "metadata": {
    "colab": {
      "provenance": []
    },
    "kernelspec": {
      "name": "python3",
      "display_name": "Python 3"
    },
    "language_info": {
      "name": "python"
    }
  },
  "cells": [
    {
      "cell_type": "code",
      "execution_count": 71,
      "metadata": {
        "id": "eo6owYoDmvDt"
      },
      "outputs": [],
      "source": [
        "# Importing Libraries\n",
        "import numpy as np\n",
        "import pandas as pd\n",
        "\n",
        "import matplotlib.pyplot as plt\n",
        "import seaborn as sns\n",
        "\n",
        "from sklearn.preprocessing import LabelEncoder\n",
        "\n",
        "from sklearn.preprocessing import StandardScaler\n",
        "from sklearn.model_selection import train_test_split\n",
        "from sklearn.ensemble import RandomForestClassifier\n",
        "from sklearn.tree import DecisionTreeClassifier\n",
        "\n",
        "import sklearn.metrics as metrics\n",
        "from sklearn.metrics import f1_score, classification_report, confusion_matrix, ConfusionMatrixDisplay\n",
        "\n",
        "import xgboost as xgb"
      ]
    },
    {
      "cell_type": "markdown",
      "source": [
        "### Loading Data"
      ],
      "metadata": {
        "id": "O4jYMfnVvFaf"
      }
    },
    {
      "cell_type": "code",
      "source": [
        "# Loading Data\n",
        "fraud_df = pd.read_csv(\"/content/drive/MyDrive/Fraud Detection/Fraud.csv\")"
      ],
      "metadata": {
        "id": "cRUegnZRnPg8"
      },
      "execution_count": 72,
      "outputs": []
    },
    {
      "cell_type": "markdown",
      "source": [
        "### Pre-processing"
      ],
      "metadata": {
        "id": "mJKwpJJSvHNn"
      }
    },
    {
      "cell_type": "code",
      "source": [
        "# Printing Head rows of the Data\n",
        "print(fraud_df.head())"
      ],
      "metadata": {
        "colab": {
          "base_uri": "https://localhost:8080/"
        },
        "id": "ea4XIcujnWEW",
        "outputId": "e251060d-d837-445b-d151-44e950f09330"
      },
      "execution_count": 73,
      "outputs": [
        {
          "output_type": "stream",
          "name": "stdout",
          "text": [
            "   step      type    amount     nameOrig  oldbalanceOrg  newbalanceOrig  \\\n",
            "0     1   PAYMENT   9839.64  C1231006815       170136.0       160296.36   \n",
            "1     1   PAYMENT   1864.28  C1666544295        21249.0        19384.72   \n",
            "2     1  TRANSFER    181.00  C1305486145          181.0            0.00   \n",
            "3     1  CASH_OUT    181.00   C840083671          181.0            0.00   \n",
            "4     1   PAYMENT  11668.14  C2048537720        41554.0        29885.86   \n",
            "\n",
            "      nameDest  oldbalanceDest  newbalanceDest  isFraud  isFlaggedFraud  \n",
            "0  M1979787155             0.0             0.0        0               0  \n",
            "1  M2044282225             0.0             0.0        0               0  \n",
            "2   C553264065             0.0             0.0        1               0  \n",
            "3    C38997010         21182.0             0.0        1               0  \n",
            "4  M1230701703             0.0             0.0        0               0  \n"
          ]
        }
      ]
    },
    {
      "cell_type": "code",
      "source": [
        "# Printing basic information of the dataframe\n",
        "fraud_df.info()"
      ],
      "metadata": {
        "colab": {
          "base_uri": "https://localhost:8080/"
        },
        "id": "104gfflQmR9w",
        "outputId": "68da515c-af0f-410a-8827-012a38d76c15"
      },
      "execution_count": 74,
      "outputs": [
        {
          "output_type": "stream",
          "name": "stdout",
          "text": [
            "<class 'pandas.core.frame.DataFrame'>\n",
            "RangeIndex: 6362620 entries, 0 to 6362619\n",
            "Data columns (total 11 columns):\n",
            " #   Column          Dtype  \n",
            "---  ------          -----  \n",
            " 0   step            int64  \n",
            " 1   type            object \n",
            " 2   amount          float64\n",
            " 3   nameOrig        object \n",
            " 4   oldbalanceOrg   float64\n",
            " 5   newbalanceOrig  float64\n",
            " 6   nameDest        object \n",
            " 7   oldbalanceDest  float64\n",
            " 8   newbalanceDest  float64\n",
            " 9   isFraud         int64  \n",
            " 10  isFlaggedFraud  int64  \n",
            "dtypes: float64(5), int64(3), object(3)\n",
            "memory usage: 534.0+ MB\n"
          ]
        }
      ]
    },
    {
      "cell_type": "code",
      "source": [
        "# Columns of the Dataset\n",
        "print(\"Columns of the Dataset:-\",fraud_df.columns)"
      ],
      "metadata": {
        "colab": {
          "base_uri": "https://localhost:8080/"
        },
        "id": "WuMNkqIjnewo",
        "outputId": "6203b66c-2012-4362-b671-e9f939ea35a4"
      },
      "execution_count": 75,
      "outputs": [
        {
          "output_type": "stream",
          "name": "stdout",
          "text": [
            "Columns of the Dataset:- Index(['step', 'type', 'amount', 'nameOrig', 'oldbalanceOrg', 'newbalanceOrig',\n",
            "       'nameDest', 'oldbalanceDest', 'newbalanceDest', 'isFraud',\n",
            "       'isFlaggedFraud'],\n",
            "      dtype='object')\n"
          ]
        }
      ]
    },
    {
      "cell_type": "code",
      "source": [
        "# Calculating Nan values in each column\n",
        "for column in fraud_df.columns:\n",
        "  print(column,fraud_df[column].isna().sum())"
      ],
      "metadata": {
        "colab": {
          "base_uri": "https://localhost:8080/"
        },
        "id": "9b6yl_OBoY-s",
        "outputId": "1e5fb37b-f569-4ce5-d135-b17e68380af3"
      },
      "execution_count": 76,
      "outputs": [
        {
          "output_type": "stream",
          "name": "stdout",
          "text": [
            "step 0\n",
            "type 0\n",
            "amount 0\n",
            "nameOrig 0\n",
            "oldbalanceOrg 0\n",
            "newbalanceOrig 0\n",
            "nameDest 0\n",
            "oldbalanceDest 0\n",
            "newbalanceDest 0\n",
            "isFraud 0\n",
            "isFlaggedFraud 0\n"
          ]
        }
      ]
    },
    {
      "cell_type": "markdown",
      "source": [
        "As we can see that there are 0 NaN values in the dataset."
      ],
      "metadata": {
        "id": "ZFfZ2hZJ-0pr"
      }
    },
    {
      "cell_type": "code",
      "source": [
        "# Checking the distribution b/w fair and fraud transactions\n",
        "fair_transac = len(fraud_df[fraud_df['isFraud']==0])\n",
        "fraud_transac = len(fraud_df[fraud_df['isFraud']==1])\n",
        "total_transac = len(fraud_df)\n",
        "print(\"Fair Transactions:-\",fair_transac)\n",
        "print(\"Fraud Transactions:-\",fraud_transac)\n",
        "print(\"Percentage of Fair Transactions:-\",(fair_transac/total_transac)*100)\n",
        "print(\"Percentage of Fraud Transactions:-\",(fraud_transac/total_transac)*100)"
      ],
      "metadata": {
        "colab": {
          "base_uri": "https://localhost:8080/"
        },
        "id": "Qe8J0d2bolVO",
        "outputId": "2e43e73e-8b73-4e25-bcb7-382350cd6649"
      },
      "execution_count": 77,
      "outputs": [
        {
          "output_type": "stream",
          "name": "stdout",
          "text": [
            "Fair Transactions:- 6354407\n",
            "Fraud Transactions:- 8213\n",
            "Percentage of Fair Transactions:- 99.87091795518198\n",
            "Percentage of Fraud Transactions:- 0.12908204481801522\n"
          ]
        }
      ]
    },
    {
      "cell_type": "markdown",
      "source": [
        "As we can see that the data is skewed. There is imbalance in the data for the classes. Therefore we need to choose the model algorithm and metrics appropriately,"
      ],
      "metadata": {
        "id": "XEtzA1TEulnE"
      }
    },
    {
      "cell_type": "markdown",
      "source": [
        "####Checking Transactions for customers that start with 'M'(Merchants)"
      ],
      "metadata": {
        "id": "qjt5leYuvOZe"
      }
    },
    {
      "cell_type": "code",
      "source": [
        "merchants_transac = fraud_df[fraud_df['nameDest'].str.contains('M')]\n",
        "merchants_transac.head()\n",
        "\n",
        "# Similarly for nameOrig column\n"
      ],
      "metadata": {
        "colab": {
          "base_uri": "https://localhost:8080/",
          "height": 270
        },
        "id": "KN70onw9vhr3",
        "outputId": "660addc4-e5d7-4206-b70d-ca639d4e7b33"
      },
      "execution_count": 78,
      "outputs": [
        {
          "output_type": "execute_result",
          "data": {
            "text/plain": [
              "   step     type    amount     nameOrig  oldbalanceOrg  newbalanceOrig  \\\n",
              "0     1  PAYMENT   9839.64  C1231006815       170136.0       160296.36   \n",
              "1     1  PAYMENT   1864.28  C1666544295        21249.0        19384.72   \n",
              "4     1  PAYMENT  11668.14  C2048537720        41554.0        29885.86   \n",
              "5     1  PAYMENT   7817.71    C90045638        53860.0        46042.29   \n",
              "6     1  PAYMENT   7107.77   C154988899       183195.0       176087.23   \n",
              "\n",
              "      nameDest  oldbalanceDest  newbalanceDest  isFraud  isFlaggedFraud  \n",
              "0  M1979787155             0.0             0.0        0               0  \n",
              "1  M2044282225             0.0             0.0        0               0  \n",
              "4  M1230701703             0.0             0.0        0               0  \n",
              "5   M573487274             0.0             0.0        0               0  \n",
              "6   M408069119             0.0             0.0        0               0  "
            ],
            "text/html": [
              "\n",
              "\n",
              "  <div id=\"df-5e8ba58a-6b05-461a-ba1a-781fb5ab1baf\">\n",
              "    <div class=\"colab-df-container\">\n",
              "      <div>\n",
              "<style scoped>\n",
              "    .dataframe tbody tr th:only-of-type {\n",
              "        vertical-align: middle;\n",
              "    }\n",
              "\n",
              "    .dataframe tbody tr th {\n",
              "        vertical-align: top;\n",
              "    }\n",
              "\n",
              "    .dataframe thead th {\n",
              "        text-align: right;\n",
              "    }\n",
              "</style>\n",
              "<table border=\"1\" class=\"dataframe\">\n",
              "  <thead>\n",
              "    <tr style=\"text-align: right;\">\n",
              "      <th></th>\n",
              "      <th>step</th>\n",
              "      <th>type</th>\n",
              "      <th>amount</th>\n",
              "      <th>nameOrig</th>\n",
              "      <th>oldbalanceOrg</th>\n",
              "      <th>newbalanceOrig</th>\n",
              "      <th>nameDest</th>\n",
              "      <th>oldbalanceDest</th>\n",
              "      <th>newbalanceDest</th>\n",
              "      <th>isFraud</th>\n",
              "      <th>isFlaggedFraud</th>\n",
              "    </tr>\n",
              "  </thead>\n",
              "  <tbody>\n",
              "    <tr>\n",
              "      <th>0</th>\n",
              "      <td>1</td>\n",
              "      <td>PAYMENT</td>\n",
              "      <td>9839.64</td>\n",
              "      <td>C1231006815</td>\n",
              "      <td>170136.0</td>\n",
              "      <td>160296.36</td>\n",
              "      <td>M1979787155</td>\n",
              "      <td>0.0</td>\n",
              "      <td>0.0</td>\n",
              "      <td>0</td>\n",
              "      <td>0</td>\n",
              "    </tr>\n",
              "    <tr>\n",
              "      <th>1</th>\n",
              "      <td>1</td>\n",
              "      <td>PAYMENT</td>\n",
              "      <td>1864.28</td>\n",
              "      <td>C1666544295</td>\n",
              "      <td>21249.0</td>\n",
              "      <td>19384.72</td>\n",
              "      <td>M2044282225</td>\n",
              "      <td>0.0</td>\n",
              "      <td>0.0</td>\n",
              "      <td>0</td>\n",
              "      <td>0</td>\n",
              "    </tr>\n",
              "    <tr>\n",
              "      <th>4</th>\n",
              "      <td>1</td>\n",
              "      <td>PAYMENT</td>\n",
              "      <td>11668.14</td>\n",
              "      <td>C2048537720</td>\n",
              "      <td>41554.0</td>\n",
              "      <td>29885.86</td>\n",
              "      <td>M1230701703</td>\n",
              "      <td>0.0</td>\n",
              "      <td>0.0</td>\n",
              "      <td>0</td>\n",
              "      <td>0</td>\n",
              "    </tr>\n",
              "    <tr>\n",
              "      <th>5</th>\n",
              "      <td>1</td>\n",
              "      <td>PAYMENT</td>\n",
              "      <td>7817.71</td>\n",
              "      <td>C90045638</td>\n",
              "      <td>53860.0</td>\n",
              "      <td>46042.29</td>\n",
              "      <td>M573487274</td>\n",
              "      <td>0.0</td>\n",
              "      <td>0.0</td>\n",
              "      <td>0</td>\n",
              "      <td>0</td>\n",
              "    </tr>\n",
              "    <tr>\n",
              "      <th>6</th>\n",
              "      <td>1</td>\n",
              "      <td>PAYMENT</td>\n",
              "      <td>7107.77</td>\n",
              "      <td>C154988899</td>\n",
              "      <td>183195.0</td>\n",
              "      <td>176087.23</td>\n",
              "      <td>M408069119</td>\n",
              "      <td>0.0</td>\n",
              "      <td>0.0</td>\n",
              "      <td>0</td>\n",
              "      <td>0</td>\n",
              "    </tr>\n",
              "  </tbody>\n",
              "</table>\n",
              "</div>\n",
              "      <button class=\"colab-df-convert\" onclick=\"convertToInteractive('df-5e8ba58a-6b05-461a-ba1a-781fb5ab1baf')\"\n",
              "              title=\"Convert this dataframe to an interactive table.\"\n",
              "              style=\"display:none;\">\n",
              "\n",
              "  <svg xmlns=\"http://www.w3.org/2000/svg\" height=\"24px\"viewBox=\"0 0 24 24\"\n",
              "       width=\"24px\">\n",
              "    <path d=\"M0 0h24v24H0V0z\" fill=\"none\"/>\n",
              "    <path d=\"M18.56 5.44l.94 2.06.94-2.06 2.06-.94-2.06-.94-.94-2.06-.94 2.06-2.06.94zm-11 1L8.5 8.5l.94-2.06 2.06-.94-2.06-.94L8.5 2.5l-.94 2.06-2.06.94zm10 10l.94 2.06.94-2.06 2.06-.94-2.06-.94-.94-2.06-.94 2.06-2.06.94z\"/><path d=\"M17.41 7.96l-1.37-1.37c-.4-.4-.92-.59-1.43-.59-.52 0-1.04.2-1.43.59L10.3 9.45l-7.72 7.72c-.78.78-.78 2.05 0 2.83L4 21.41c.39.39.9.59 1.41.59.51 0 1.02-.2 1.41-.59l7.78-7.78 2.81-2.81c.8-.78.8-2.07 0-2.86zM5.41 20L4 18.59l7.72-7.72 1.47 1.35L5.41 20z\"/>\n",
              "  </svg>\n",
              "      </button>\n",
              "\n",
              "\n",
              "\n",
              "    <div id=\"df-f6196a32-69aa-4939-9a82-4dfb1ae4f1ff\">\n",
              "      <button class=\"colab-df-quickchart\" onclick=\"quickchart('df-f6196a32-69aa-4939-9a82-4dfb1ae4f1ff')\"\n",
              "              title=\"Suggest charts.\"\n",
              "              style=\"display:none;\">\n",
              "\n",
              "<svg xmlns=\"http://www.w3.org/2000/svg\" height=\"24px\"viewBox=\"0 0 24 24\"\n",
              "     width=\"24px\">\n",
              "    <g>\n",
              "        <path d=\"M19 3H5c-1.1 0-2 .9-2 2v14c0 1.1.9 2 2 2h14c1.1 0 2-.9 2-2V5c0-1.1-.9-2-2-2zM9 17H7v-7h2v7zm4 0h-2V7h2v10zm4 0h-2v-4h2v4z\"/>\n",
              "    </g>\n",
              "</svg>\n",
              "      </button>\n",
              "    </div>\n",
              "\n",
              "<style>\n",
              "  .colab-df-quickchart {\n",
              "    background-color: #E8F0FE;\n",
              "    border: none;\n",
              "    border-radius: 50%;\n",
              "    cursor: pointer;\n",
              "    display: none;\n",
              "    fill: #1967D2;\n",
              "    height: 32px;\n",
              "    padding: 0 0 0 0;\n",
              "    width: 32px;\n",
              "  }\n",
              "\n",
              "  .colab-df-quickchart:hover {\n",
              "    background-color: #E2EBFA;\n",
              "    box-shadow: 0px 1px 2px rgba(60, 64, 67, 0.3), 0px 1px 3px 1px rgba(60, 64, 67, 0.15);\n",
              "    fill: #174EA6;\n",
              "  }\n",
              "\n",
              "  [theme=dark] .colab-df-quickchart {\n",
              "    background-color: #3B4455;\n",
              "    fill: #D2E3FC;\n",
              "  }\n",
              "\n",
              "  [theme=dark] .colab-df-quickchart:hover {\n",
              "    background-color: #434B5C;\n",
              "    box-shadow: 0px 1px 3px 1px rgba(0, 0, 0, 0.15);\n",
              "    filter: drop-shadow(0px 1px 2px rgba(0, 0, 0, 0.3));\n",
              "    fill: #FFFFFF;\n",
              "  }\n",
              "</style>\n",
              "\n",
              "    <script>\n",
              "      async function quickchart(key) {\n",
              "        const containerElement = document.querySelector('#' + key);\n",
              "        const charts = await google.colab.kernel.invokeFunction(\n",
              "            'suggestCharts', [key], {});\n",
              "      }\n",
              "    </script>\n",
              "\n",
              "      <script>\n",
              "\n",
              "function displayQuickchartButton(domScope) {\n",
              "  let quickchartButtonEl =\n",
              "    domScope.querySelector('#df-f6196a32-69aa-4939-9a82-4dfb1ae4f1ff button.colab-df-quickchart');\n",
              "  quickchartButtonEl.style.display =\n",
              "    google.colab.kernel.accessAllowed ? 'block' : 'none';\n",
              "}\n",
              "\n",
              "        displayQuickchartButton(document);\n",
              "      </script>\n",
              "      <style>\n",
              "    .colab-df-container {\n",
              "      display:flex;\n",
              "      flex-wrap:wrap;\n",
              "      gap: 12px;\n",
              "    }\n",
              "\n",
              "    .colab-df-convert {\n",
              "      background-color: #E8F0FE;\n",
              "      border: none;\n",
              "      border-radius: 50%;\n",
              "      cursor: pointer;\n",
              "      display: none;\n",
              "      fill: #1967D2;\n",
              "      height: 32px;\n",
              "      padding: 0 0 0 0;\n",
              "      width: 32px;\n",
              "    }\n",
              "\n",
              "    .colab-df-convert:hover {\n",
              "      background-color: #E2EBFA;\n",
              "      box-shadow: 0px 1px 2px rgba(60, 64, 67, 0.3), 0px 1px 3px 1px rgba(60, 64, 67, 0.15);\n",
              "      fill: #174EA6;\n",
              "    }\n",
              "\n",
              "    [theme=dark] .colab-df-convert {\n",
              "      background-color: #3B4455;\n",
              "      fill: #D2E3FC;\n",
              "    }\n",
              "\n",
              "    [theme=dark] .colab-df-convert:hover {\n",
              "      background-color: #434B5C;\n",
              "      box-shadow: 0px 1px 3px 1px rgba(0, 0, 0, 0.15);\n",
              "      filter: drop-shadow(0px 1px 2px rgba(0, 0, 0, 0.3));\n",
              "      fill: #FFFFFF;\n",
              "    }\n",
              "  </style>\n",
              "\n",
              "      <script>\n",
              "        const buttonEl =\n",
              "          document.querySelector('#df-5e8ba58a-6b05-461a-ba1a-781fb5ab1baf button.colab-df-convert');\n",
              "        buttonEl.style.display =\n",
              "          google.colab.kernel.accessAllowed ? 'block' : 'none';\n",
              "\n",
              "        async function convertToInteractive(key) {\n",
              "          const element = document.querySelector('#df-5e8ba58a-6b05-461a-ba1a-781fb5ab1baf');\n",
              "          const dataTable =\n",
              "            await google.colab.kernel.invokeFunction('convertToInteractive',\n",
              "                                                     [key], {});\n",
              "          if (!dataTable) return;\n",
              "\n",
              "          const docLinkHtml = 'Like what you see? Visit the ' +\n",
              "            '<a target=\"_blank\" href=https://colab.research.google.com/notebooks/data_table.ipynb>data table notebook</a>'\n",
              "            + ' to learn more about interactive tables.';\n",
              "          element.innerHTML = '';\n",
              "          dataTable['output_type'] = 'display_data';\n",
              "          await google.colab.output.renderOutput(dataTable, element);\n",
              "          const docLink = document.createElement('div');\n",
              "          docLink.innerHTML = docLinkHtml;\n",
              "          element.appendChild(docLink);\n",
              "        }\n",
              "      </script>\n",
              "    </div>\n",
              "  </div>\n"
            ]
          },
          "metadata": {},
          "execution_count": 78
        }
      ]
    },
    {
      "cell_type": "markdown",
      "source": [
        "We can see that the transactions having nameDest or nameOrig start with 'M' do not contain information regarding oldbalanceDest and newbalanceDest"
      ],
      "metadata": {
        "id": "OQ7dq16JyTuT"
      }
    },
    {
      "cell_type": "markdown",
      "source": [
        "### Visualizing Data with Graphs"
      ],
      "metadata": {
        "id": "9izGe7NWy6vX"
      }
    },
    {
      "cell_type": "code",
      "source": [
        "# Count of number of transactions for each Type\n",
        "ax = sns.countplot(data = fraud_df,x = \"type\")\n",
        "plt.show()"
      ],
      "metadata": {
        "colab": {
          "base_uri": "https://localhost:8080/",
          "height": 465
        },
        "id": "n9NqkKZIzvba",
        "outputId": "07e39a0f-3ad6-4ba7-8b12-2de36a1275b5"
      },
      "execution_count": 79,
      "outputs": [
        {
          "output_type": "display_data",
          "data": {
            "text/plain": [
              "<Figure size 640x480 with 1 Axes>"
            ],
            "image/png": "[encoded data removed]"
          },
          "metadata": {}
        }
      ]
    },
    {
      "cell_type": "markdown",
      "source": [
        "We can see that most of the transactions are of CASH_OUT, PAYMENT and CASH_IN type and very few are of TRANSFER AND DEBIT types."
      ],
      "metadata": {
        "id": "QNjqM6Q70uuh"
      }
    },
    {
      "cell_type": "code",
      "source": [
        "# Plotting Heatmap of the correlation matrix\n",
        "ax = sns.heatmap(fraud_df.corr(), annot=True)"
      ],
      "metadata": {
        "colab": {
          "base_uri": "https://localhost:8080/",
          "height": 593
        },
        "id": "S67cxVUi-B7t",
        "outputId": "578fac4d-9d24-4b1d-d5b6-4a03b2aed6f8"
      },
      "execution_count": 80,
      "outputs": [
        {
          "output_type": "stream",
          "name": "stderr",
          "text": [
            "<ipython-input-80-e12b70ee6454>:2: FutureWarning: The default value of numeric_only in DataFrame.corr is deprecated. In a future version, it will default to False. Select only valid columns or specify the value of numeric_only to silence this warning.\n",
            "  ax = sns.heatmap(fraud_df.corr(), annot=True)\n"
          ]
        },
        {
          "output_type": "display_data",
          "data": {
            "text/plain": [
              "<Figure size 640x480 with 2 Axes>"
            ],
            "image/png": "[encoded data removed]"
          },
          "metadata": {}
        }
      ]
    },
    {
      "cell_type": "markdown",
      "source": [
        "As we can see from the Heatmap, there is high correlation b/w these columns:-\\\n",
        "(i) **newbalanceOrig and oldbalanceOrig**\\\n",
        "(ii) **newbalanceDest and oldbalanceDest**\n",
        "\n",
        "Therefore while training the model we will take only one of these columns"
      ],
      "metadata": {
        "id": "uCj4EjZWASyI"
      }
    },
    {
      "cell_type": "markdown",
      "source": [
        "#### Label Encoding the columns having Object as data type"
      ],
      "metadata": {
        "id": "ythAy6tM4OrD"
      }
    },
    {
      "cell_type": "markdown",
      "source": [
        "During Training, we need the data type of the column as numeric in order to train. Therefore using LabelEncoder, we are converting Object data type to numeric"
      ],
      "metadata": {
        "id": "CU_59reMsxyb"
      }
    },
    {
      "cell_type": "code",
      "source": [
        "# Label encoding the columns with Object as data type with numeric values\n",
        "le  = LabelEncoder()\n",
        "\n",
        "for column in ['type','nameOrig','nameDest']:\n",
        "  fraud_df['encoded_'+column] = le.fit_transform(fraud_df[column].astype(str))\n",
        "\n",
        "print(fraud_df.info())"
      ],
      "metadata": {
        "colab": {
          "base_uri": "https://localhost:8080/"
        },
        "id": "aDb93-jLHk78",
        "outputId": "2e24e24a-8afe-4466-e363-83d02c1e0ce3"
      },
      "execution_count": 81,
      "outputs": [
        {
          "output_type": "stream",
          "name": "stdout",
          "text": [
            "<class 'pandas.core.frame.DataFrame'>\n",
            "RangeIndex: 6362620 entries, 0 to 6362619\n",
            "Data columns (total 14 columns):\n",
            " #   Column            Dtype  \n",
            "---  ------            -----  \n",
            " 0   step              int64  \n",
            " 1   type              object \n",
            " 2   amount            float64\n",
            " 3   nameOrig          object \n",
            " 4   oldbalanceOrg     float64\n",
            " 5   newbalanceOrig    float64\n",
            " 6   nameDest          object \n",
            " 7   oldbalanceDest    float64\n",
            " 8   newbalanceDest    float64\n",
            " 9   isFraud           int64  \n",
            " 10  isFlaggedFraud    int64  \n",
            " 11  encoded_type      int64  \n",
            " 12  encoded_nameOrig  int64  \n",
            " 13  encoded_nameDest  int64  \n",
            "dtypes: float64(5), int64(6), object(3)\n",
            "memory usage: 679.6+ MB\n",
            "None\n"
          ]
        }
      ]
    },
    {
      "cell_type": "markdown",
      "source": [
        "####Checking for Multicollinearity using VIF"
      ],
      "metadata": {
        "id": "5gvMUU0r66Bv"
      }
    },
    {
      "cell_type": "markdown",
      "source": [
        "From the above Correlation matrix, we saw that oldbalanceOrg and newbalanceOrig have too high correlation thus they are highly correlated. Similarly oldbalanceDest and newbalanceDest. Also nameDest is connected to nameOrig.\n",
        "\n",
        "Thus it is better to combine these pairs of collinear attributes and calculate their correlation and use them for training."
      ],
      "metadata": {
        "id": "tVyXCw0K9haj"
      }
    },
    {
      "cell_type": "code",
      "source": [
        "# Creating new columns to avoid Collinearity\n",
        "fraud_df['Actual_amount_orig'] = fraud_df.apply(lambda x: x['oldbalanceOrg'] - x['newbalanceOrig'],axis=1)\n",
        "fraud_df['Actual_amount_dest'] = fraud_df.apply(lambda x: x['oldbalanceDest'] - x['newbalanceDest'],axis=1)\n",
        "fraud_df['TransactionPath'] = fraud_df.apply(lambda x: x['encoded_nameOrig'] + x['encoded_nameDest'],axis=1)"
      ],
      "metadata": {
        "id": "gEHvSyYa5gbi"
      },
      "execution_count": 82,
      "outputs": []
    },
    {
      "cell_type": "code",
      "source": [
        "fraud_df.info()"
      ],
      "metadata": {
        "colab": {
          "base_uri": "https://localhost:8080/"
        },
        "id": "Q4GAHxunHbsX",
        "outputId": "60c273db-aa05-439d-e32e-be041a1cf72f"
      },
      "execution_count": 83,
      "outputs": [
        {
          "output_type": "stream",
          "name": "stdout",
          "text": [
            "<class 'pandas.core.frame.DataFrame'>\n",
            "RangeIndex: 6362620 entries, 0 to 6362619\n",
            "Data columns (total 17 columns):\n",
            " #   Column              Dtype  \n",
            "---  ------              -----  \n",
            " 0   step                int64  \n",
            " 1   type                object \n",
            " 2   amount              float64\n",
            " 3   nameOrig            object \n",
            " 4   oldbalanceOrg       float64\n",
            " 5   newbalanceOrig      float64\n",
            " 6   nameDest            object \n",
            " 7   oldbalanceDest      float64\n",
            " 8   newbalanceDest      float64\n",
            " 9   isFraud             int64  \n",
            " 10  isFlaggedFraud      int64  \n",
            " 11  encoded_type        int64  \n",
            " 12  encoded_nameOrig    int64  \n",
            " 13  encoded_nameDest    int64  \n",
            " 14  Actual_amount_orig  float64\n",
            " 15  Actual_amount_dest  float64\n",
            " 16  TransactionPath     int64  \n",
            "dtypes: float64(7), int64(7), object(3)\n",
            "memory usage: 825.2+ MB\n"
          ]
        }
      ]
    },
    {
      "cell_type": "code",
      "source": [
        "# Calculating VIF\n",
        "from statsmodels.stats.outliers_influence import variance_inflation_factor\n",
        "\n",
        "def calc_vif(df):\n",
        "\n",
        "    vif = pd.DataFrame()\n",
        "    vif[\"variables\"] = df.columns\n",
        "    vif[\"VIF\"] = [variance_inflation_factor(df.values, i) for i in range(df.shape[1])]\n",
        "\n",
        "    return(vif)\n",
        "\n",
        "calc_vif(fraud_df[['encoded_type','amount','isFraud','isFlaggedFraud','Actual_amount_orig','Actual_amount_dest','TransactionPath']])\n"
      ],
      "metadata": {
        "colab": {
          "base_uri": "https://localhost:8080/",
          "height": 269
        },
        "id": "NfOTEyDl-OBr",
        "outputId": "1bd260f7-fdae-4220-80ab-66ca241b8648"
      },
      "execution_count": 84,
      "outputs": [
        {
          "output_type": "execute_result",
          "data": {
            "text/plain": [
              "            variables       VIF\n",
              "0        encoded_type  2.687803\n",
              "1              amount  3.818902\n",
              "2             isFraud  1.184479\n",
              "3      isFlaggedFraud  1.002546\n",
              "4  Actual_amount_orig  1.307910\n",
              "5  Actual_amount_dest  3.754335\n",
              "6     TransactionPath  2.677167"
            ],
            "text/html": [
              "\n",
              "\n",
              "  <div id=\"df-ffe41c47-c236-4012-af90-c054922dbdee\">\n",
              "    <div class=\"colab-df-container\">\n",
              "      <div>\n",
              "<style scoped>\n",
              "    .dataframe tbody tr th:only-of-type {\n",
              "        vertical-align: middle;\n",
              "    }\n",
              "\n",
              "    .dataframe tbody tr th {\n",
              "        vertical-align: top;\n",
              "    }\n",
              "\n",
              "    .dataframe thead th {\n",
              "        text-align: right;\n",
              "    }\n",
              "</style>\n",
              "<table border=\"1\" class=\"dataframe\">\n",
              "  <thead>\n",
              "    <tr style=\"text-align: right;\">\n",
              "      <th></th>\n",
              "      <th>variables</th>\n",
              "      <th>VIF</th>\n",
              "    </tr>\n",
              "  </thead>\n",
              "  <tbody>\n",
              "    <tr>\n",
              "      <th>0</th>\n",
              "      <td>encoded_type</td>\n",
              "      <td>2.687803</td>\n",
              "    </tr>\n",
              "    <tr>\n",
              "      <th>1</th>\n",
              "      <td>amount</td>\n",
              "      <td>3.818902</td>\n",
              "    </tr>\n",
              "    <tr>\n",
              "      <th>2</th>\n",
              "      <td>isFraud</td>\n",
              "      <td>1.184479</td>\n",
              "    </tr>\n",
              "    <tr>\n",
              "      <th>3</th>\n",
              "      <td>isFlaggedFraud</td>\n",
              "      <td>1.002546</td>\n",
              "    </tr>\n",
              "    <tr>\n",
              "      <th>4</th>\n",
              "      <td>Actual_amount_orig</td>\n",
              "      <td>1.307910</td>\n",
              "    </tr>\n",
              "    <tr>\n",
              "      <th>5</th>\n",
              "      <td>Actual_amount_dest</td>\n",
              "      <td>3.754335</td>\n",
              "    </tr>\n",
              "    <tr>\n",
              "      <th>6</th>\n",
              "      <td>TransactionPath</td>\n",
              "      <td>2.677167</td>\n",
              "    </tr>\n",
              "  </tbody>\n",
              "</table>\n",
              "</div>\n",
              "      <button class=\"colab-df-convert\" onclick=\"convertToInteractive('df-ffe41c47-c236-4012-af90-c054922dbdee')\"\n",
              "              title=\"Convert this dataframe to an interactive table.\"\n",
              "              style=\"display:none;\">\n",
              "\n",
              "  <svg xmlns=\"http://www.w3.org/2000/svg\" height=\"24px\"viewBox=\"0 0 24 24\"\n",
              "       width=\"24px\">\n",
              "    <path d=\"M0 0h24v24H0V0z\" fill=\"none\"/>\n",
              "    <path d=\"M18.56 5.44l.94 2.06.94-2.06 2.06-.94-2.06-.94-.94-2.06-.94 2.06-2.06.94zm-11 1L8.5 8.5l.94-2.06 2.06-.94-2.06-.94L8.5 2.5l-.94 2.06-2.06.94zm10 10l.94 2.06.94-2.06 2.06-.94-2.06-.94-.94-2.06-.94 2.06-2.06.94z\"/><path d=\"M17.41 7.96l-1.37-1.37c-.4-.4-.92-.59-1.43-.59-.52 0-1.04.2-1.43.59L10.3 9.45l-7.72 7.72c-.78.78-.78 2.05 0 2.83L4 21.41c.39.39.9.59 1.41.59.51 0 1.02-.2 1.41-.59l7.78-7.78 2.81-2.81c.8-.78.8-2.07 0-2.86zM5.41 20L4 18.59l7.72-7.72 1.47 1.35L5.41 20z\"/>\n",
              "  </svg>\n",
              "      </button>\n",
              "\n",
              "\n",
              "\n",
              "    <div id=\"df-3a3a95a6-1904-43fb-aaad-bca5ad01b47f\">\n",
              "      <button class=\"colab-df-quickchart\" onclick=\"quickchart('df-3a3a95a6-1904-43fb-aaad-bca5ad01b47f')\"\n",
              "              title=\"Suggest charts.\"\n",
              "              style=\"display:none;\">\n",
              "\n",
              "<svg xmlns=\"http://www.w3.org/2000/svg\" height=\"24px\"viewBox=\"0 0 24 24\"\n",
              "     width=\"24px\">\n",
              "    <g>\n",
              "        <path d=\"M19 3H5c-1.1 0-2 .9-2 2v14c0 1.1.9 2 2 2h14c1.1 0 2-.9 2-2V5c0-1.1-.9-2-2-2zM9 17H7v-7h2v7zm4 0h-2V7h2v10zm4 0h-2v-4h2v4z\"/>\n",
              "    </g>\n",
              "</svg>\n",
              "      </button>\n",
              "    </div>\n",
              "\n",
              "<style>\n",
              "  .colab-df-quickchart {\n",
              "    background-color: #E8F0FE;\n",
              "    border: none;\n",
              "    border-radius: 50%;\n",
              "    cursor: pointer;\n",
              "    display: none;\n",
              "    fill: #1967D2;\n",
              "    height: 32px;\n",
              "    padding: 0 0 0 0;\n",
              "    width: 32px;\n",
              "  }\n",
              "\n",
              "  .colab-df-quickchart:hover {\n",
              "    background-color: #E2EBFA;\n",
              "    box-shadow: 0px 1px 2px rgba(60, 64, 67, 0.3), 0px 1px 3px 1px rgba(60, 64, 67, 0.15);\n",
              "    fill: #174EA6;\n",
              "  }\n",
              "\n",
              "  [theme=dark] .colab-df-quickchart {\n",
              "    background-color: #3B4455;\n",
              "    fill: #D2E3FC;\n",
              "  }\n",
              "\n",
              "  [theme=dark] .colab-df-quickchart:hover {\n",
              "    background-color: #434B5C;\n",
              "    box-shadow: 0px 1px 3px 1px rgba(0, 0, 0, 0.15);\n",
              "    filter: drop-shadow(0px 1px 2px rgba(0, 0, 0, 0.3));\n",
              "    fill: #FFFFFF;\n",
              "  }\n",
              "</style>\n",
              "\n",
              "    <script>\n",
              "      async function quickchart(key) {\n",
              "        const containerElement = document.querySelector('#' + key);\n",
              "        const charts = await google.colab.kernel.invokeFunction(\n",
              "            'suggestCharts', [key], {});\n",
              "      }\n",
              "    </script>\n",
              "\n",
              "      <script>\n",
              "\n",
              "function displayQuickchartButton(domScope) {\n",
              "  let quickchartButtonEl =\n",
              "    domScope.querySelector('#df-3a3a95a6-1904-43fb-aaad-bca5ad01b47f button.colab-df-quickchart');\n",
              "  quickchartButtonEl.style.display =\n",
              "    google.colab.kernel.accessAllowed ? 'block' : 'none';\n",
              "}\n",
              "\n",
              "        displayQuickchartButton(document);\n",
              "      </script>\n",
              "      <style>\n",
              "    .colab-df-container {\n",
              "      display:flex;\n",
              "      flex-wrap:wrap;\n",
              "      gap: 12px;\n",
              "    }\n",
              "\n",
              "    .colab-df-convert {\n",
              "      background-color: #E8F0FE;\n",
              "      border: none;\n",
              "      border-radius: 50%;\n",
              "      cursor: pointer;\n",
              "      display: none;\n",
              "      fill: #1967D2;\n",
              "      height: 32px;\n",
              "      padding: 0 0 0 0;\n",
              "      width: 32px;\n",
              "    }\n",
              "\n",
              "    .colab-df-convert:hover {\n",
              "      background-color: #E2EBFA;\n",
              "      box-shadow: 0px 1px 2px rgba(60, 64, 67, 0.3), 0px 1px 3px 1px rgba(60, 64, 67, 0.15);\n",
              "      fill: #174EA6;\n",
              "    }\n",
              "\n",
              "    [theme=dark] .colab-df-convert {\n",
              "      background-color: #3B4455;\n",
              "      fill: #D2E3FC;\n",
              "    }\n",
              "\n",
              "    [theme=dark] .colab-df-convert:hover {\n",
              "      background-color: #434B5C;\n",
              "      box-shadow: 0px 1px 3px 1px rgba(0, 0, 0, 0.15);\n",
              "      filter: drop-shadow(0px 1px 2px rgba(0, 0, 0, 0.3));\n",
              "      fill: #FFFFFF;\n",
              "    }\n",
              "  </style>\n",
              "\n",
              "      <script>\n",
              "        const buttonEl =\n",
              "          document.querySelector('#df-ffe41c47-c236-4012-af90-c054922dbdee button.colab-df-convert');\n",
              "        buttonEl.style.display =\n",
              "          google.colab.kernel.accessAllowed ? 'block' : 'none';\n",
              "\n",
              "        async function convertToInteractive(key) {\n",
              "          const element = document.querySelector('#df-ffe41c47-c236-4012-af90-c054922dbdee');\n",
              "          const dataTable =\n",
              "            await google.colab.kernel.invokeFunction('convertToInteractive',\n",
              "                                                     [key], {});\n",
              "          if (!dataTable) return;\n",
              "\n",
              "          const docLinkHtml = 'Like what you see? Visit the ' +\n",
              "            '<a target=\"_blank\" href=https://colab.research.google.com/notebooks/data_table.ipynb>data table notebook</a>'\n",
              "            + ' to learn more about interactive tables.';\n",
              "          element.innerHTML = '';\n",
              "          dataTable['output_type'] = 'display_data';\n",
              "          await google.colab.output.renderOutput(dataTable, element);\n",
              "          const docLink = document.createElement('div');\n",
              "          docLink.innerHTML = docLinkHtml;\n",
              "          element.appendChild(docLink);\n",
              "        }\n",
              "      </script>\n",
              "    </div>\n",
              "  </div>\n"
            ]
          },
          "metadata": {},
          "execution_count": 84
        }
      ]
    },
    {
      "cell_type": "markdown",
      "source": [
        "We can notice that these variables have VIF < 5, which is good. We have only taken these variables as these will be used for training."
      ],
      "metadata": {
        "id": "5_cn3nlft4zz"
      }
    },
    {
      "cell_type": "markdown",
      "source": [
        "### Data Preparation"
      ],
      "metadata": {
        "id": "QC4RuSwSAgc5"
      }
    },
    {
      "cell_type": "code",
      "source": [
        "# Perform Scaling on Amount as it helps in better convergence during training\n",
        "scaler = StandardScaler()\n",
        "fraud_df[\"NormalizedAmount\"] = scaler.fit_transform(fraud_df[\"amount\"].values.reshape(-1, 1))\n",
        "# fraud_df.drop([\"amount\"], inplace= True, axis= 1)\n",
        "\n",
        "X = fraud_df[['encoded_type','amount','isFraud','isFlaggedFraud','Actual_amount_orig','Actual_amount_dest','TransactionPath']]\n",
        "Y = fraud_df[['isFraud']]"
      ],
      "metadata": {
        "id": "clYNJGhnAQsi"
      },
      "execution_count": 85,
      "outputs": []
    },
    {
      "cell_type": "markdown",
      "source": [
        "####Splitting Data into Training and Testing"
      ],
      "metadata": {
        "id": "KRrqhl-tI7oT"
      }
    },
    {
      "cell_type": "code",
      "source": [
        "# Split the data (80-20 split)\n",
        "(X_train, X_test, Y_train, Y_test) = train_test_split(X, Y, test_size= 0.2, random_state= 42)\n",
        "\n",
        "print(\"Shape of X_train: \", X_train.shape)\n",
        "print(\"Shape of X_test: \", X_test.shape)"
      ],
      "metadata": {
        "colab": {
          "base_uri": "https://localhost:8080/"
        },
        "id": "-BS2F3UNI_7G",
        "outputId": "58c68ecc-17c5-4da1-acaf-abed53f41b45"
      },
      "execution_count": 86,
      "outputs": [
        {
          "output_type": "stream",
          "name": "stdout",
          "text": [
            "Shape of X_train:  (5090096, 7)\n",
            "Shape of X_test:  (1272524, 7)\n"
          ]
        }
      ]
    },
    {
      "cell_type": "markdown",
      "source": [
        "### Model"
      ],
      "metadata": {
        "id": "jB6GTQpuAjOJ"
      }
    },
    {
      "cell_type": "markdown",
      "source": [
        "As we know that we have imbalance data, therefore the algorithms that perform better in that case are Tree-based algorithms or Boosting algorithms like XGBoost"
      ],
      "metadata": {
        "id": "isNKw14kMYUy"
      }
    },
    {
      "cell_type": "code",
      "source": [
        "# DECISION TREE\n",
        "\n",
        "decision_tree = DecisionTreeClassifier()\n",
        "decision_tree.fit(X_train, Y_train)\n",
        "\n",
        "Y_pred_dt = decision_tree.predict(X_test)\n",
        "decision_tree_score = decision_tree.score(X_test, Y_test) * 100"
      ],
      "metadata": {
        "id": "QLZURC7SAmms"
      },
      "execution_count": 87,
      "outputs": []
    },
    {
      "cell_type": "code",
      "source": [
        "# RANDOM FOREST\n",
        "\n",
        "random_forest = RandomForestClassifier(n_estimators= 100)\n",
        "random_forest.fit(X_train, Y_train)\n",
        "\n",
        "Y_pred_rf = random_forest.predict(X_test)\n",
        "random_forest_score = random_forest.score(X_test, Y_test) * 100"
      ],
      "metadata": {
        "colab": {
          "base_uri": "https://localhost:8080/"
        },
        "id": "ZBhxavAjNAji",
        "outputId": "15bc1b25-3c74-4dcf-ba61-2b7ecb70b4c3"
      },
      "execution_count": 88,
      "outputs": [
        {
          "output_type": "stream",
          "name": "stderr",
          "text": [
            "<ipython-input-88-98b802f3ce30>:4: DataConversionWarning: A column-vector y was passed when a 1d array was expected. Please change the shape of y to (n_samples,), for example using ravel().\n",
            "  random_forest.fit(X_train, Y_train)\n"
          ]
        }
      ]
    },
    {
      "cell_type": "code",
      "source": [
        "# XGBoost Regressor\n",
        "xgb_model = xgb.XGBRegressor(objective=\"reg:linear\", random_state=42)\n",
        "\n",
        "xgb_model.fit(X_train, Y_train)\n",
        "\n",
        "Y_pred_xgb = xgb_model.predict(X_test)\n",
        "\n",
        "xgboost_score = random_forest.score(X_test, Y_test) * 100"
      ],
      "metadata": {
        "colab": {
          "base_uri": "https://localhost:8080/"
        },
        "id": "SUevL8sMNvxt",
        "outputId": "3d69a49a-7de3-42ae-dda9-e1a33b644ce3"
      },
      "execution_count": 89,
      "outputs": [
        {
          "output_type": "stream",
          "name": "stdout",
          "text": [
            "[17:01:37] WARNING: ../src/objective/regression_obj.cu:213: reg:linear is now deprecated in favor of reg:squarederror.\n"
          ]
        }
      ]
    },
    {
      "cell_type": "code",
      "source": [
        "# Print scores of our classifiers\n",
        "\n",
        "print(\"Decision Tree Score: \", decision_tree_score)\n",
        "print(\"Random Forest Score: \", random_forest_score)\n",
        "print(\"XGBoost Regressor Score: \", xgboost_score)"
      ],
      "metadata": {
        "colab": {
          "base_uri": "https://localhost:8080/"
        },
        "id": "osQlugUsUUWS",
        "outputId": "5214a63f-738f-44f0-c9d5-e90ece236113"
      },
      "execution_count": 90,
      "outputs": [
        {
          "output_type": "stream",
          "name": "stdout",
          "text": [
            "Decision Tree Score:  100.0\n",
            "Random Forest Score:  100.0\n",
            "XGBoost Regressor Score:  100.0\n"
          ]
        }
      ]
    },
    {
      "cell_type": "markdown",
      "source": [
        "### Metrics Calculation"
      ],
      "metadata": {
        "id": "DIy2j42-Anf1"
      }
    },
    {
      "cell_type": "markdown",
      "source": [
        "As it is an imbalance dataset, the best metrics to check the performance of model are:-\\\n",
        "(i) Precision\\\n",
        "(ii) Recall\\\n",
        "(iii) F-1 Score\\\n",
        "(iv) Confusion Matrix"
      ],
      "metadata": {
        "id": "MR0i3iKQeNNW"
      }
    },
    {
      "cell_type": "code",
      "source": [
        "# Classification Report for Decision Tree\n",
        "classification_report_dt = classification_report(Y_test, Y_pred_dt.round())\n",
        "print(\"Classification Report - Decision Tree\")\n",
        "print(classification_report_dt)"
      ],
      "metadata": {
        "colab": {
          "base_uri": "https://localhost:8080/"
        },
        "id": "sAKrbVSLAygW",
        "outputId": "3f090e4a-7c39-444e-fa4e-e798c972f824"
      },
      "execution_count": 91,
      "outputs": [
        {
          "output_type": "stream",
          "name": "stdout",
          "text": [
            "Classification Report - Decision Tree\n",
            "              precision    recall  f1-score   support\n",
            "\n",
            "           0       1.00      1.00      1.00   1270904\n",
            "           1       1.00      1.00      1.00      1620\n",
            "\n",
            "    accuracy                           1.00   1272524\n",
            "   macro avg       1.00      1.00      1.00   1272524\n",
            "weighted avg       1.00      1.00      1.00   1272524\n",
            "\n"
          ]
        }
      ]
    },
    {
      "cell_type": "code",
      "source": [
        "# Classification Report for Random Forest\n",
        "classification_report_rf = classification_report(Y_test, Y_pred_rf.round())\n",
        "print(\"Classification Report - Random Forest\")\n",
        "print(classification_report_rf)"
      ],
      "metadata": {
        "colab": {
          "base_uri": "https://localhost:8080/"
        },
        "id": "ecuJkldcbP7U",
        "outputId": "2730ae93-4cc9-451a-9db1-b1c79f6e6766"
      },
      "execution_count": 92,
      "outputs": [
        {
          "output_type": "stream",
          "name": "stdout",
          "text": [
            "Classification Report - Random Forest\n",
            "              precision    recall  f1-score   support\n",
            "\n",
            "           0       1.00      1.00      1.00   1270904\n",
            "           1       1.00      1.00      1.00      1620\n",
            "\n",
            "    accuracy                           1.00   1272524\n",
            "   macro avg       1.00      1.00      1.00   1272524\n",
            "weighted avg       1.00      1.00      1.00   1272524\n",
            "\n"
          ]
        }
      ]
    },
    {
      "cell_type": "code",
      "source": [
        "# Classification Report for XGBoost\n",
        "classification_report_xgb = classification_report(Y_test, Y_pred_xgb.round())\n",
        "print(\"Classification Report - XGBoost\")\n",
        "print(classification_report_xgb)"
      ],
      "metadata": {
        "colab": {
          "base_uri": "https://localhost:8080/"
        },
        "id": "eZIsKX-fbUVb",
        "outputId": "dda57422-425a-4a70-e8f6-521a0a76713a"
      },
      "execution_count": 93,
      "outputs": [
        {
          "output_type": "stream",
          "name": "stdout",
          "text": [
            "Classification Report - XGBoost\n",
            "              precision    recall  f1-score   support\n",
            "\n",
            "           0       1.00      1.00      1.00   1270904\n",
            "           1       1.00      1.00      1.00      1620\n",
            "\n",
            "    accuracy                           1.00   1272524\n",
            "   macro avg       1.00      1.00      1.00   1272524\n",
            "weighted avg       1.00      1.00      1.00   1272524\n",
            "\n"
          ]
        }
      ]
    },
    {
      "cell_type": "code",
      "source": [
        "# Confusion Matrix for Decision Tree\n",
        "cm_dt = confusion_matrix(Y_test,Y_pred_dt.round())\n",
        "disp = ConfusionMatrixDisplay(cm_dt)\n",
        "\n",
        "disp.plot()\n",
        "plt.title('Confusion Matrix - Decision Tree')\n",
        "plt.show()"
      ],
      "metadata": {
        "colab": {
          "base_uri": "https://localhost:8080/",
          "height": 472
        },
        "id": "M0x-BU5FdvPJ",
        "outputId": "12961e07-ccc1-4056-d4e6-2264c6333ce0"
      },
      "execution_count": 94,
      "outputs": [
        {
          "output_type": "display_data",
          "data": {
            "text/plain": [
              "<Figure size 640x480 with 2 Axes>"
            ],
            "image/png": "[encoded data removed]"
          },
          "metadata": {}
        }
      ]
    },
    {
      "cell_type": "code",
      "source": [
        "# Confusuion Matrix for Random Forest\n",
        "cm_rf = confusion_matrix(Y_test,Y_pred_rf.round())\n",
        "disp = ConfusionMatrixDisplay(cm_rf)\n",
        "\n",
        "disp.plot()\n",
        "plt.title('Confusion Matrix - Random Forest')\n",
        "plt.show()"
      ],
      "metadata": {
        "colab": {
          "base_uri": "https://localhost:8080/",
          "height": 472
        },
        "id": "KGR91P1Mf1L1",
        "outputId": "f6c0a3e6-5bdb-453a-b619-54ab9e367b64"
      },
      "execution_count": 95,
      "outputs": [
        {
          "output_type": "display_data",
          "data": {
            "text/plain": [
              "<Figure size 640x480 with 2 Axes>"
            ],
            "image/png": "[encoded data removed]"
          },
          "metadata": {}
        }
      ]
    },
    {
      "cell_type": "code",
      "source": [
        "# Confusion Matrix for XGBoost\n",
        "cm_xgb = confusion_matrix(Y_test,Y_pred_xgb.round())\n",
        "disp = ConfusionMatrixDisplay(cm_xgb)\n",
        "\n",
        "disp.plot()\n",
        "plt.title('Confusion Matrix - XGBoost')\n",
        "plt.show()"
      ],
      "metadata": {
        "colab": {
          "base_uri": "https://localhost:8080/",
          "height": 472
        },
        "id": "mX8579zZf4Gk",
        "outputId": "3960dc93-d7bb-454b-8d53-3396403fb186"
      },
      "execution_count": 96,
      "outputs": [
        {
          "output_type": "display_data",
          "data": {
            "text/plain": [
              "<Figure size 640x480 with 2 Axes>"
            ],
            "image/png": "[encoded data removed]"
          },
          "metadata": {}
        }
      ]
    },
    {
      "cell_type": "markdown",
      "source": [
        "###Conclusion"
      ],
      "metadata": {
        "id": "nE4ebgpV28fz"
      }
    },
    {
      "cell_type": "markdown",
      "source": [
        "As we can see after training three models:- Decision Tree, Random Forest, XGBoost and from the result that we are getting precision and recall, both as 1 in all three. Therefore all the data is being labelled correctly on the test set.\\\n",
        "This is ***the reason we didn't use fine-tuning*** here as we are already getting good results.\n"
      ],
      "metadata": {
        "id": "xjrKP4ER2-wm"
      }
    },
    {
      "cell_type": "markdown",
      "source": [
        "####Assignment Questions"
      ],
      "metadata": {
        "id": "PC2GWKCL21Zo"
      }
    },
    {
      "cell_type": "markdown",
      "source": [
        "**Q1. How did you select variables to be included in the model?**\\\n",
        "Ans - Firstly I checked the correlation b/w the variables through which it is seen that the variables newbalanceOrig and oldbalanceOrig, newbalanceDest and oldbalanceDest are highly correlated. Therefore I created custom variables Actual_amount_orig and Actual_amount_dest which represent the information carried by newbalanceOrig and newbalanceDest but without any correlation. I also created a variable TransactionPath which is just the combination of nameOrig and nameDest.\\\n",
        "\n",
        "**Q2. What are the key factors that predict fraudulent customer?**\\\n",
        "Ans - Some of these factors are:- \\\n",
        "(i) Amount of Transaction\\\n",
        "(ii) Customer Transaction History\\\n",
        "(iii) Sender and Receiver transaction relation\n",
        "\n",
        "**Q3. Do these factors make sense?**\\\n",
        "Ans - Yes, some of these factors make sense. For exp -  it is likely that in case of fraud large amount of money would be involved. Also it is likely that if a person has commited fraud before, he/she might do it again.\n",
        "On the other hand, some variable like Transaction Type might not matter that much as it is difficult to know if a payment do through cash or transfer is a fraud or not.\n",
        "\n",
        "**Q4. What kind of prevention should be adopted while company update its infrastructure?**\\\n",
        "Ans - Fraud Monitoring system should be installed and real-time transactions should be passes through them.\\\n",
        "Aside from this, a virtual identity can be made for each customer where the identity will be tied through the customer history and his/her resource history. This can help in detecting which person is more likely to commit fraud.\n",
        "\n",
        "**Q5. Assuming these actions have been implemented, how would you determine if they work?**\\\n",
        "Ans - The best way to be satisfied that the software is working correctly, you should try to commit fraud yourself. This will help you understand how the software works and whether it is able to detect all types of fraud.\n"
      ],
      "metadata": {
        "id": "cCuWT7bevF3j"
      }
    },
    {
      "cell_type": "markdown",
      "source": [
        "###Thank You! Hope you find the assignment results satisfactory !"
      ],
      "metadata": {
        "id": "pM8AA1ZP5Zg4"
      }
    },
    {
      "cell_type": "code",
      "source": [],
      "metadata": {
        "id": "-lip5tlJ20Oi"
      },
      "execution_count": null,
      "outputs": []
    }
  ]
}